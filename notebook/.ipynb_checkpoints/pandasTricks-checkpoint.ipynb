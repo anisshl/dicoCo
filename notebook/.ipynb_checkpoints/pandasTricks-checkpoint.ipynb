{
 "cells": [
  {
   "cell_type": "markdown",
   "metadata": {},
   "source": [
    "# Pandas Tricks\n",
    "\n",
    "*Rappel et/ou découverte de manipulation de matrices de données avec pandas*"
   ]
  },
  {
   "cell_type": "markdown",
   "metadata": {},
   "source": [
    "### Lire un tableur\n",
    "\n"
   ]
  },
  {
   "cell_type": "code",
   "execution_count": 1,
   "metadata": {},
   "outputs": [
    {
     "data": {
      "text/html": [
       "<div>\n",
       "<style scoped>\n",
       "    .dataframe tbody tr th:only-of-type {\n",
       "        vertical-align: middle;\n",
       "    }\n",
       "\n",
       "    .dataframe tbody tr th {\n",
       "        vertical-align: top;\n",
       "    }\n",
       "\n",
       "    .dataframe thead th {\n",
       "        text-align: right;\n",
       "    }\n",
       "</style>\n",
       "<table border=\"1\" class=\"dataframe\">\n",
       "  <thead>\n",
       "    <tr style=\"text-align: right;\">\n",
       "      <th></th>\n",
       "      <th>nbSyll</th>\n",
       "      <th>pron</th>\n",
       "      <th>origin</th>\n",
       "      <th>warning</th>\n",
       "      <th>remarques</th>\n",
       "      <th>POS</th>\n",
       "      <th>lineId</th>\n",
       "      <th>pageId</th>\n",
       "    </tr>\n",
       "  </thead>\n",
       "  <tbody>\n",
       "    <tr>\n",
       "      <th>13306</th>\n",
       "      <td>2</td>\n",
       "      <td>sŭʹlly</td>\n",
       "      <td>F.</td>\n",
       "      <td>NaN</td>\n",
       "      <td>NaN</td>\n",
       "      <td>v.</td>\n",
       "      <td>51.0</td>\n",
       "      <td>206</td>\n",
       "    </tr>\n",
       "    <tr>\n",
       "      <th>13299</th>\n",
       "      <td>2</td>\n",
       "      <td>sŭggĕʹſt</td>\n",
       "      <td>L.</td>\n",
       "      <td>NaN</td>\n",
       "      <td>NaN</td>\n",
       "      <td>v.</td>\n",
       "      <td>44.0</td>\n",
       "      <td>206</td>\n",
       "    </tr>\n",
       "    <tr>\n",
       "      <th>1207</th>\n",
       "      <td>4</td>\n",
       "      <td>bĕnĕdĭʹctīnes</td>\n",
       "      <td>NaN</td>\n",
       "      <td>NaN</td>\n",
       "      <td>NaN</td>\n",
       "      <td>n.</td>\n",
       "      <td>24.0</td>\n",
       "      <td>36</td>\n",
       "    </tr>\n",
       "    <tr>\n",
       "      <th>7485</th>\n",
       "      <td>5</td>\n",
       "      <td>jŭſtĭfīʹable</td>\n",
       "      <td>NaN</td>\n",
       "      <td>NaN</td>\n",
       "      <td>NaN</td>\n",
       "      <td>a.</td>\n",
       "      <td>31.0</td>\n",
       "      <td>125</td>\n",
       "    </tr>\n",
       "    <tr>\n",
       "      <th>11260</th>\n",
       "      <td>3</td>\n",
       "      <td>rĕʹcŏncīle</td>\n",
       "      <td>L.</td>\n",
       "      <td>NaN</td>\n",
       "      <td>NaN</td>\n",
       "      <td>v.</td>\n",
       "      <td>20.0</td>\n",
       "      <td>178</td>\n",
       "    </tr>\n",
       "  </tbody>\n",
       "</table>\n",
       "</div>"
      ],
      "text/plain": [
       "       nbSyll           pron origin warning remarques POS  lineId  pageId\n",
       "13306       2         sŭʹlly     F.     NaN       NaN  v.    51.0     206\n",
       "13299       2       sŭggĕʹſt     L.     NaN       NaN  v.    44.0     206\n",
       "1207        4  bĕnĕdĭʹctīnes    NaN     NaN       NaN  n.    24.0      36\n",
       "7485        5   jŭſtĭfīʹable    NaN     NaN       NaN  a.    31.0     125\n",
       "11260       3     rĕʹcŏncīle     L.     NaN       NaN  v.    20.0     178"
      ]
     },
     "execution_count": 1,
     "metadata": {},
     "output_type": "execute_result"
    }
   ],
   "source": [
    "import pandas as pd\n",
    "\n",
    "# préciser le chemin du fichier à lire\n",
    "cheminDuFichierCSV = \"./../data/dictionary/1757_Buchanan-J.csv\" \n",
    "\n",
    "# demander à pandas de lire le fichier et garder ce tableau accessible dans une variable\n",
    "dfDicoBuch = pd.read_csv(cheminDuFichierCSV, delimiter=\";\", encoding=\"utf8\")\n",
    "\n",
    "# afficher à l'écran un échantillon du tableau\n",
    "dfDicoBuch.sample(n=5)"
   ]
  },
  {
   "cell_type": "markdown",
   "metadata": {},
   "source": [
    "Pour lires des tableurs aux format xls, xlsx ou odt il faut utiliser pd.read_excel(cheminDuFichier) et je conseil de bien préciser explicitement l'engine à utiliser en paramètre.\n",
    "* dfXlsx = pd.read_excel(cheminDuFichierXLSX, engine=\"openpyxl\")\n",
    "* dfOds = pd.read_excel(cheminDuFichierODS, engine=\"odf\")"
   ]
  },
  {
   "cell_type": "markdown",
   "metadata": {},
   "source": [
    "### Ajouter un nouvelle colonne contenant le resultat d'un traitement"
   ]
  },
  {
   "cell_type": "code",
   "execution_count": 2,
   "metadata": {},
   "outputs": [],
   "source": [
    "# définir une fonction qui retourne quelque chose\n",
    "def sizePron(strPron):\n",
    "    #retourner le nombre de caractère de la prononciation\n",
    "    \n",
    "    return len(strPron)\n",
    "\n"
   ]
  },
  {
   "cell_type": "code",
   "execution_count": 3,
   "metadata": {},
   "outputs": [
    {
     "data": {
      "text/html": [
       "<div>\n",
       "<style scoped>\n",
       "    .dataframe tbody tr th:only-of-type {\n",
       "        vertical-align: middle;\n",
       "    }\n",
       "\n",
       "    .dataframe tbody tr th {\n",
       "        vertical-align: top;\n",
       "    }\n",
       "\n",
       "    .dataframe thead th {\n",
       "        text-align: right;\n",
       "    }\n",
       "</style>\n",
       "<table border=\"1\" class=\"dataframe\">\n",
       "  <thead>\n",
       "    <tr style=\"text-align: right;\">\n",
       "      <th></th>\n",
       "      <th>nbSyll</th>\n",
       "      <th>pron</th>\n",
       "      <th>origin</th>\n",
       "      <th>warning</th>\n",
       "      <th>remarques</th>\n",
       "      <th>POS</th>\n",
       "      <th>lineId</th>\n",
       "      <th>pageId</th>\n",
       "      <th>sizePron</th>\n",
       "    </tr>\n",
       "  </thead>\n",
       "  <tbody>\n",
       "    <tr>\n",
       "      <th>7959</th>\n",
       "      <td>3</td>\n",
       "      <td>lŏʹgărĭthms</td>\n",
       "      <td>G.</td>\n",
       "      <td>NaN</td>\n",
       "      <td>NaN</td>\n",
       "      <td>n.</td>\n",
       "      <td>8.0</td>\n",
       "      <td>132</td>\n",
       "      <td>11</td>\n",
       "    </tr>\n",
       "    <tr>\n",
       "      <th>2874</th>\n",
       "      <td>3</td>\n",
       "      <td>cŏʹrăcle</td>\n",
       "      <td>NaN</td>\n",
       "      <td>NaN</td>\n",
       "      <td>NaN</td>\n",
       "      <td>n.</td>\n",
       "      <td>39.0</td>\n",
       "      <td>59</td>\n",
       "      <td>8</td>\n",
       "    </tr>\n",
       "    <tr>\n",
       "      <th>12414</th>\n",
       "      <td>2</td>\n",
       "      <td>ſhrōʹv_e_tīde</td>\n",
       "      <td>NaN</td>\n",
       "      <td>NaN</td>\n",
       "      <td>NaN</td>\n",
       "      <td>n.</td>\n",
       "      <td>25.0</td>\n",
       "      <td>194</td>\n",
       "      <td>13</td>\n",
       "    </tr>\n",
       "    <tr>\n",
       "      <th>5216</th>\n",
       "      <td>2</td>\n",
       "      <td>fŏrgĕt</td>\n",
       "      <td>NaN</td>\n",
       "      <td>nbSyll&gt;1 et pas d'accent tonic</td>\n",
       "      <td>NaN</td>\n",
       "      <td>v.</td>\n",
       "      <td>19.0</td>\n",
       "      <td>92</td>\n",
       "      <td>6</td>\n",
       "    </tr>\n",
       "    <tr>\n",
       "      <th>4539</th>\n",
       "      <td>4</td>\n",
       "      <td>equāʹtion</td>\n",
       "      <td>L.</td>\n",
       "      <td>NaN</td>\n",
       "      <td>NaN</td>\n",
       "      <td>n.</td>\n",
       "      <td>58.0</td>\n",
       "      <td>82</td>\n",
       "      <td>9</td>\n",
       "    </tr>\n",
       "  </tbody>\n",
       "</table>\n",
       "</div>"
      ],
      "text/plain": [
       "       nbSyll           pron origin                         warning remarques  \\\n",
       "7959        3    lŏʹgărĭthms     G.                             NaN       NaN   \n",
       "2874        3       cŏʹrăcle    NaN                             NaN       NaN   \n",
       "12414       2  ſhrōʹv_e_tīde    NaN                             NaN       NaN   \n",
       "5216        2         fŏrgĕt    NaN  nbSyll>1 et pas d'accent tonic       NaN   \n",
       "4539        4      equāʹtion     L.                             NaN       NaN   \n",
       "\n",
       "      POS  lineId  pageId  sizePron  \n",
       "7959   n.     8.0     132        11  \n",
       "2874   n.    39.0      59         8  \n",
       "12414  n.    25.0     194        13  \n",
       "5216   v.    19.0      92         6  \n",
       "4539   n.    58.0      82         9  "
      ]
     },
     "execution_count": 3,
     "metadata": {},
     "output_type": "execute_result"
    }
   ],
   "source": [
    "# appeler cette fonction sur toutes les lignes de la matrice pour remplir une nouvelle colonne grace à apply\n",
    "dfDicoBuch['sizePron'] = dfDicoBuch.apply(lambda x: sizePron(x['pron']),1)\n",
    "\n",
    "dfDicoBuch.sample(n=5)"
   ]
  },
  {
   "cell_type": "markdown",
   "metadata": {},
   "source": [
    "## Un petit calcul"
   ]
  },
  {
   "cell_type": "code",
   "execution_count": 4,
   "metadata": {},
   "outputs": [
    {
     "data": {
      "text/plain": [
       "9.0"
      ]
     },
     "execution_count": 4,
     "metadata": {},
     "output_type": "execute_result"
    }
   ],
   "source": [
    "dfDicoBuch['sizePron'].median()"
   ]
  },
  {
   "cell_type": "markdown",
   "metadata": {},
   "source": [
    "## Une recherche de valeur"
   ]
  },
  {
   "cell_type": "code",
   "execution_count": 5,
   "metadata": {},
   "outputs": [
    {
     "data": {
      "text/html": [
       "<div>\n",
       "<style scoped>\n",
       "    .dataframe tbody tr th:only-of-type {\n",
       "        vertical-align: middle;\n",
       "    }\n",
       "\n",
       "    .dataframe tbody tr th {\n",
       "        vertical-align: top;\n",
       "    }\n",
       "\n",
       "    .dataframe thead th {\n",
       "        text-align: right;\n",
       "    }\n",
       "</style>\n",
       "<table border=\"1\" class=\"dataframe\">\n",
       "  <thead>\n",
       "    <tr style=\"text-align: right;\">\n",
       "      <th></th>\n",
       "      <th>nbSyll</th>\n",
       "      <th>pron</th>\n",
       "      <th>origin</th>\n",
       "      <th>warning</th>\n",
       "      <th>remarques</th>\n",
       "      <th>POS</th>\n",
       "      <th>lineId</th>\n",
       "      <th>pageId</th>\n",
       "      <th>sizePron</th>\n",
       "    </tr>\n",
       "  </thead>\n",
       "  <tbody>\n",
       "    <tr>\n",
       "      <th>2813</th>\n",
       "      <td>3</td>\n",
       "      <td>contrŏʹller or comptrollĕr</td>\n",
       "      <td>NaN</td>\n",
       "      <td>NaN</td>\n",
       "      <td>NaN</td>\n",
       "      <td>n.</td>\n",
       "      <td>49.0</td>\n",
       "      <td>58</td>\n",
       "      <td>26</td>\n",
       "    </tr>\n",
       "    <tr>\n",
       "      <th>7492</th>\n",
       "      <td>3</td>\n",
       "      <td>kaʹlĕnd_a_r or caʹlĕnd_a_r</td>\n",
       "      <td>NaN</td>\n",
       "      <td>NaN</td>\n",
       "      <td>NaN</td>\n",
       "      <td>n.</td>\n",
       "      <td>2.0</td>\n",
       "      <td>125</td>\n",
       "      <td>26</td>\n",
       "    </tr>\n",
       "  </tbody>\n",
       "</table>\n",
       "</div>"
      ],
      "text/plain": [
       "      nbSyll                        pron origin warning remarques POS  lineId  \\\n",
       "2813       3  contrŏʹller or comptrollĕr    NaN     NaN       NaN  n.    49.0   \n",
       "7492       3  kaʹlĕnd_a_r or caʹlĕnd_a_r    NaN     NaN       NaN  n.     2.0   \n",
       "\n",
       "      pageId  sizePron  \n",
       "2813      58        26  \n",
       "7492     125        26  "
      ]
     },
     "execution_count": 5,
     "metadata": {},
     "output_type": "execute_result"
    }
   ],
   "source": [
    "dfDicoBuch[dfDicoBuch['sizePron']==26.0]"
   ]
  },
  {
   "cell_type": "markdown",
   "metadata": {},
   "source": [
    "## Afficher des graphiques\n",
    "Plusieurs librairie possibles :\n",
    "* matplotlib (static, bonne qualité pour publication)\n",
    "* seaborn (interactif, pour le web)\n",
    "* bokeh (interactif, pour le web)\n",
    "* plotly (interactif, pour le web)"
   ]
  },
  {
   "cell_type": "code",
   "execution_count": 6,
   "metadata": {},
   "outputs": [],
   "source": [
    "import seaborn as sns\n",
    "import matplotlib.pyplot as plt"
   ]
  },
  {
   "cell_type": "code",
   "execution_count": 7,
   "metadata": {},
   "outputs": [
    {
     "data": {
      "text/plain": [
       "<AxesSubplot:xlabel='nbSyll', ylabel='sizePron'>"
      ]
     },
     "execution_count": 7,
     "metadata": {},
     "output_type": "execute_result"
    },
    {
     "data": {
      "application/vnd.jupyter.widget-view+json": {
       "model_id": "8090d8f7856145efab9a731b67fb2b9a",
       "version_major": 2,
       "version_minor": 0
      },
      "image/png": "[encoded data removed]",
      "text/html": [
       "\n",
       "            <div style=\"display: inline-block;\">\n",
       "                <div class=\"jupyter-widgets widget-label\" style=\"text-align: center;\">\n",
       "                    scatter plot view\n",
       "                </div>\n",
       "                <img src='data:image/png;base64,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' width=640.0/>\n",
       "            </div>\n",
       "        "
      ],
      "text/plain": [
       "Canvas(toolbar=Toolbar(toolitems=[('Home', 'Reset original view', 'home', 'home'), ('Back', 'Back to previous …"
      ]
     },
     "metadata": {},
     "output_type": "display_data"
    }
   ],
   "source": [
    "%matplotlib ipympl\n",
    "\n",
    "plt.figure(\"scatter plot view\")\n",
    "sns.scatterplot(data=dfDicoBuch, x=\"nbSyll\", y=\"sizePron\", hue=\"POS\")"
   ]
  },
  {
   "cell_type": "code",
   "execution_count": null,
   "metadata": {
    "scrolled": true
   },
   "outputs": [],
   "source": [
    "%matplotlib ipympl\n",
    "\n",
    "plt.figure(\"scatter plot view\")\n",
    "sns.scatterplot(data=dfDicoBuch, x=\"nbSyll\", y=\"sizePron\", hue=\"POS\", alpha=0.05)"
   ]
  },
  {
   "cell_type": "markdown",
   "metadata": {},
   "source": [
    "## Manipuler des matrices de format exotique"
   ]
  },
  {
   "cell_type": "code",
   "execution_count": null,
   "metadata": {},
   "outputs": [],
   "source": [
    "cheminDuDicoBigi = \"./../data/dictionary/2015_Bigi-B.dict\" \n",
    "\n",
    "# ouvrir une matric exotique\n",
    "#dfDicoBigi = pd.read_csv(cheminDuDicoBigi, delimiter=\" [] \", encoding=\"utf8\")\n",
    "\n",
    "dfDicoBigi = pd.read_csv(cheminDuDicoBigi, delimiter=\" \\[\\] \", encoding=\"utf8\", engine='python', names=['hwd','pronSampa'], skiprows=8 )\n",
    "\n",
    "# afficher à l'écran un échantillon du tableau\n",
    "dfDicoBigi.head(n=5)"
   ]
  },
  {
   "cell_type": "markdown",
   "metadata": {},
   "source": [
    "Intro/rappel Regex : https://gitlab.huma-num.fr/mnauge/cnam-athon-transcrire/-/blob/master/codes/regexBasics.ipynb"
   ]
  },
  {
   "cell_type": "markdown",
   "metadata": {},
   "source": [
    "## Jouer avec deux matrices à la fois"
   ]
  },
  {
   "cell_type": "code",
   "execution_count": null,
   "metadata": {},
   "outputs": [],
   "source": [
    "cheminDuMappingSampaIpa = \"./../data/dictionary/sampa-ipa.txt\" \n",
    "dfMappingSampaIpa = pd.read_csv(cheminDuMappingSampaIpa, delimiter=\"  *\", encoding=\"utf8\", engine='python', names=['sampa','ipa'])\n",
    "dfMappingSampaIpa.sample(n=3)"
   ]
  },
  {
   "cell_type": "code",
   "execution_count": null,
   "metadata": {},
   "outputs": [],
   "source": [
    "dfMappingSampaIpa['sampa'].value_counts()"
   ]
  },
  {
   "cell_type": "code",
   "execution_count": null,
   "metadata": {},
   "outputs": [],
   "source": [
    "dfMappingSampaIpa[dfMappingSampaIpa['sampa']=='@']"
   ]
  },
  {
   "cell_type": "code",
   "execution_count": null,
   "metadata": {},
   "outputs": [],
   "source": [
    "# ne garder que la première occurence pour éviter une indécision mais ce n'est pas terrible. A discuter avec les linguistes.\n",
    "dfMappingSampaIpa.drop_duplicates(subset=['sampa'], keep='first', inplace=True)"
   ]
  },
  {
   "cell_type": "code",
   "execution_count": null,
   "metadata": {},
   "outputs": [],
   "source": [
    "dfMappingSampaIpa[dfMappingSampaIpa['sampa']=='@']"
   ]
  },
  {
   "cell_type": "code",
   "execution_count": null,
   "metadata": {},
   "outputs": [],
   "source": [
    "def sampa2ipa(strSampa, dfMapping):\n",
    "    ipaRes = \"\"\n",
    "    \n",
    "    listValSampa = strSampa.split(\" \")\n",
    "    #print(listValSampa)\n",
    "    for valSampa in listValSampa:\n",
    "        dfRowFinded = dfMapping[dfMapping['sampa']==valSampa]\n",
    "\n",
    "        if len(dfRowFinded==1):\n",
    "            ipaRes+=dfRowFinded.iloc[0]['ipa']\n",
    "        else:\n",
    "            ipaRes+='?'\n",
    "    return ipaRes"
   ]
  },
  {
   "cell_type": "code",
   "execution_count": null,
   "metadata": {},
   "outputs": [],
   "source": [
    "sampa2ipa(\"A r\\ t i\",dfMappingSampaIpa)"
   ]
  },
  {
   "cell_type": "code",
   "execution_count": null,
   "metadata": {},
   "outputs": [],
   "source": [
    "dfDicoBigiRich = dfDicoBigi.sample(n=1000).copy()\n",
    "\n",
    "dfDicoBigiRich['ipa'] = dfDicoBigiRich.apply(lambda x: sampa2ipa(x['pronSampa'], dfMappingSampaIpa),1)\n"
   ]
  },
  {
   "cell_type": "code",
   "execution_count": null,
   "metadata": {},
   "outputs": [],
   "source": [
    "dfDicoBigiRich.sample(n=5)"
   ]
  },
  {
   "cell_type": "markdown",
   "metadata": {},
   "source": [
    "### Sauvegarder la nouvelle matrice\n"
   ]
  },
  {
   "cell_type": "code",
   "execution_count": null,
   "metadata": {},
   "outputs": [],
   "source": [
    "pathDicoBigiRich = \"./../data/dataframe/BigiRichSample.csv\"\n",
    "dfDicoBigiRich.to_csv(pathDicoBigiRich, sep=\";\",encoding=\"utf8\",index=False)"
   ]
  }
 ],
 "metadata": {
  "kernelspec": {
   "display_name": "Python 3",
   "language": "python",
   "name": "python3"
  },
  "language_info": {
   "codemirror_mode": {
    "name": "ipython",
    "version": 3
   },
   "file_extension": ".py",
   "mimetype": "text/x-python",
   "name": "python",
   "nbconvert_exporter": "python",
   "pygments_lexer": "ipython3",
   "version": "3.8.8"
  }
 },
 "nbformat": 4,
 "nbformat_minor": 4
}
