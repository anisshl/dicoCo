{
 "cells": [
  {
   "cell_type": "markdown",
   "metadata": {},
   "source": [
    "# DicoCo\n",
    "\n",
    "*anis SAHLI*"
   ]
  },
  {
   "cell_type": "code",
   "execution_count": 27,
   "metadata": {},
   "outputs": [
    {
     "data": {
      "text/plain": [
       "'1.20.1'"
      ]
     },
     "execution_count": 27,
     "metadata": {},
     "output_type": "execute_result"
    }
   ],
   "source": [
    "import numpy"
   ]
  },
  {
   "cell_type": "markdown",
   "metadata": {},
   "source": [
    "## Récupération de la Data"
   ]
  },
  {
   "cell_type": "code",
   "execution_count": 17,
   "metadata": {},
   "outputs": [],
   "source": [
    "# Récupération de la Data\n",
    "import pandas as pd\n",
    "dfBuchananRich = pd.read_csv('./../data/dataframe/BuchananRich.csv')"
   ]
  },
  {
   "cell_type": "code",
   "execution_count": 18,
   "metadata": {},
   "outputs": [
    {
     "data": {
      "text/html": [
       "<div>\n",
       "<style scoped>\n",
       "    .dataframe tbody tr th:only-of-type {\n",
       "        vertical-align: middle;\n",
       "    }\n",
       "\n",
       "    .dataframe tbody tr th {\n",
       "        vertical-align: top;\n",
       "    }\n",
       "\n",
       "    .dataframe thead th {\n",
       "        text-align: right;\n",
       "    }\n",
       "</style>\n",
       "<table border=\"1\" class=\"dataframe\">\n",
       "  <thead>\n",
       "    <tr style=\"text-align: right;\">\n",
       "      <th></th>\n",
       "      <th>motVedette</th>\n",
       "      <th>nbSyll</th>\n",
       "      <th>pron</th>\n",
       "      <th>pronSampa</th>\n",
       "      <th>ipa</th>\n",
       "    </tr>\n",
       "  </thead>\n",
       "  <tbody>\n",
       "    <tr>\n",
       "      <th>0</th>\n",
       "      <td>abacus</td>\n",
       "      <td>3</td>\n",
       "      <td>aʹbăcus</td>\n",
       "      <td>{ b @ k @ s</td>\n",
       "      <td>æbəkəs</td>\n",
       "    </tr>\n",
       "    <tr>\n",
       "      <th>1</th>\n",
       "      <td>abaft</td>\n",
       "      <td>2</td>\n",
       "      <td>ăbăʹft</td>\n",
       "      <td>mot inexistant</td>\n",
       "      <td>mot inexistant</td>\n",
       "    </tr>\n",
       "    <tr>\n",
       "      <th>2</th>\n",
       "      <td>abaisance</td>\n",
       "      <td>3</td>\n",
       "      <td>ăbaiʹſănce</td>\n",
       "      <td>mot inexistant</td>\n",
       "      <td>mot inexistant</td>\n",
       "    </tr>\n",
       "    <tr>\n",
       "      <th>3</th>\n",
       "      <td>abandon</td>\n",
       "      <td>3</td>\n",
       "      <td>ābăʹndon</td>\n",
       "      <td>@ b { n d @ n</td>\n",
       "      <td>əbændən</td>\n",
       "    </tr>\n",
       "    <tr>\n",
       "      <th>4</th>\n",
       "      <td>abandoned</td>\n",
       "      <td>4</td>\n",
       "      <td>ābăʹndŏned</td>\n",
       "      <td>@ b { n d @ n d</td>\n",
       "      <td>əbændənd</td>\n",
       "    </tr>\n",
       "  </tbody>\n",
       "</table>\n",
       "</div>"
      ],
      "text/plain": [
       "  motVedette  nbSyll        pron        pronSampa             ipa\n",
       "0     abacus       3     aʹbăcus      { b @ k @ s          æbəkəs\n",
       "1      abaft       2      ăbăʹft   mot inexistant  mot inexistant\n",
       "2  abaisance       3  ăbaiʹſănce   mot inexistant  mot inexistant\n",
       "3    abandon       3    ābăʹndon    @ b { n d @ n         əbændən\n",
       "4  abandoned       4  ābăʹndŏned  @ b { n d @ n d        əbændənd"
      ]
     },
     "execution_count": 18,
     "metadata": {},
     "output_type": "execute_result"
    }
   ],
   "source": [
    "dfBuchananRich=dfBuchananRich[[\"motVedette\",\"nbSyll\",\"pron\",\"pronSampa\",\"ipa\"]]\n",
    "dfBuchananRich.head()"
   ]
  },
  {
   "cell_type": "code",
   "execution_count": 19,
   "metadata": {},
   "outputs": [
    {
     "data": {
      "text/html": [
       "<div>\n",
       "<style scoped>\n",
       "    .dataframe tbody tr th:only-of-type {\n",
       "        vertical-align: middle;\n",
       "    }\n",
       "\n",
       "    .dataframe tbody tr th {\n",
       "        vertical-align: top;\n",
       "    }\n",
       "\n",
       "    .dataframe thead th {\n",
       "        text-align: right;\n",
       "    }\n",
       "</style>\n",
       "<table border=\"1\" class=\"dataframe\">\n",
       "  <thead>\n",
       "    <tr style=\"text-align: right;\">\n",
       "      <th></th>\n",
       "      <th>motVedette</th>\n",
       "      <th>nbSyll</th>\n",
       "      <th>pron</th>\n",
       "      <th>pronSampa</th>\n",
       "      <th>ipa</th>\n",
       "    </tr>\n",
       "  </thead>\n",
       "  <tbody>\n",
       "    <tr>\n",
       "      <th>9193</th>\n",
       "      <td>NaN</td>\n",
       "      <td>1</td>\n",
       "      <td>nŭll</td>\n",
       "      <td>mot inexistant</td>\n",
       "      <td>mot inexistant</td>\n",
       "    </tr>\n",
       "  </tbody>\n",
       "</table>\n",
       "</div>"
      ],
      "text/plain": [
       "     motVedette  nbSyll  pron       pronSampa             ipa\n",
       "9193        NaN       1  nŭll  mot inexistant  mot inexistant"
      ]
     },
     "execution_count": 19,
     "metadata": {},
     "output_type": "execute_result"
    }
   ],
   "source": [
    "# attention le mot null lors de l'import est considéré comme une missing value\n",
    "dfBuchananRich[dfBuchananRich[\"motVedette\"].isnull()]"
   ]
  },
  {
   "cell_type": "code",
   "execution_count": 20,
   "metadata": {},
   "outputs": [
    {
     "data": {
      "text/html": [
       "<div>\n",
       "<style scoped>\n",
       "    .dataframe tbody tr th:only-of-type {\n",
       "        vertical-align: middle;\n",
       "    }\n",
       "\n",
       "    .dataframe tbody tr th {\n",
       "        vertical-align: top;\n",
       "    }\n",
       "\n",
       "    .dataframe thead th {\n",
       "        text-align: right;\n",
       "    }\n",
       "</style>\n",
       "<table border=\"1\" class=\"dataframe\">\n",
       "  <thead>\n",
       "    <tr style=\"text-align: right;\">\n",
       "      <th></th>\n",
       "      <th>motVedette</th>\n",
       "      <th>nbSyll</th>\n",
       "      <th>pron</th>\n",
       "      <th>pronSampa</th>\n",
       "      <th>ipa</th>\n",
       "    </tr>\n",
       "  </thead>\n",
       "  <tbody>\n",
       "  </tbody>\n",
       "</table>\n",
       "</div>"
      ],
      "text/plain": [
       "Empty DataFrame\n",
       "Columns: [motVedette, nbSyll, pron, pronSampa, ipa]\n",
       "Index: []"
      ]
     },
     "execution_count": 20,
     "metadata": {},
     "output_type": "execute_result"
    }
   ],
   "source": [
    "dfBuchananRich[\"motVedette\"].fillna(\"null\",inplace=True)\n",
    "dfBuchananRich[dfBuchananRich[\"motVedette\"].isnull()]"
   ]
  },
  {
   "cell_type": "markdown",
   "metadata": {},
   "source": [
    "## Scrapping"
   ]
  },
  {
   "cell_type": "code",
   "execution_count": 21,
   "metadata": {},
   "outputs": [],
   "source": [
    "from bs4 import BeautifulSoup\n",
    "from requests_html import HTMLSession\n",
    "import re\n",
    "import time\n",
    "\n",
    "session = HTMLSession()"
   ]
  },
  {
   "cell_type": "code",
   "execution_count": 22,
   "metadata": {},
   "outputs": [
    {
     "name": "stdout",
     "output_type": "stream",
     "text": [
      "Aucun problème à priori sur l'ensemble des mots!\n"
     ]
    }
   ],
   "source": [
    "# Scrapper une fois toute la table\n",
    "# Test sur les 100 premiers\n",
    "path = \"https://dictionary.cambridge.org/fr/dictionnaire/anglais/\"\n",
    "\n",
    "compteur = 0\n",
    "\n",
    "for word in dfBuchananRich[\"motVedette\"].iloc[0:10]:\n",
    "    response = session.get(path+word)\n",
    "    status = response.status_code\n",
    "    if status != 200: \n",
    "        print(\"Attention, au mot {} : status code = {}\".format(word,status))\n",
    "    \n",
    "    time.sleep(0.1)\n",
    "    \n",
    "if compteur == 0 :\n",
    "    print(\"Aucun problème à priori sur l'ensemble des mots!\")"
   ]
  },
  {
   "cell_type": "markdown",
   "metadata": {},
   "source": [
    "## Fonction de scraping "
   ]
  },
  {
   "cell_type": "code",
   "execution_count": 23,
   "metadata": {
    "scrolled": false
   },
   "outputs": [],
   "source": [
    "# Scrapping version 2\n",
    "path = \"https://dictionary.cambridge.org/fr/dictionnaire/anglais/\"\n",
    "\n",
    "def cambridge_scrap2(word,session):\n",
    "    list_of_words = []\n",
    "    list_of_type = []\n",
    "    list_uk_pron = []\n",
    "    list_phonetic_uk = []\n",
    "    list_us_pron = []\n",
    "    list_phonetic_us = []\n",
    "\n",
    "    response = session.get(path+word)\n",
    "    status = response.status_code\n",
    "    if status == 200: \n",
    "        html_doc = response.content\n",
    "        soup = BeautifulSoup(html_doc,'html.parser')\n",
    "\n",
    "        finded = soup.findAll(\"div\", {\"class\" : \"pos-header dpos-h\"})\n",
    "        path_audio = 'https://dictionary.cambridge.org'\n",
    "\n",
    "        for audio in finded :\n",
    "            is_word_to_catch = False\n",
    "            try :\n",
    "                mot = audio.find(\"div\",{\"class\":\"di-title\"}).text\n",
    "                #print(mot)\n",
    "\n",
    "                dtype = audio.find(\"div\",{\"class\":\"posgram dpos-g hdib lmr-5\"}).text\n",
    "                #print('type : {}'.format(dtype))\n",
    "                \n",
    "                list_of_words.append(mot)\n",
    "                list_of_type.append(dtype)\n",
    "                \n",
    "                is_word_to_catch = True\n",
    "            except :\n",
    "                pass\n",
    "            \n",
    "            #print(is_word_to_catch)\n",
    "\n",
    "            if(is_word_to_catch==True):\n",
    "                #print(mot)\n",
    "                # UK\n",
    "                try:\n",
    "                    langue_uk = audio.find(\"span\",{\"class\":\"uk dpron-i\"})\n",
    "                    if len(langue_uk)==0:\n",
    "                        pass\n",
    "                    else:\n",
    "                        phonetic_uk = audio.find(\"span\",{\"class\":\"pron dpron\"}).text\n",
    "                        list_uk_pron.append(path_audio+langue_uk.find(\"source\",{\"type\":\"audio/mpeg\"})['src'])\n",
    "                        list_phonetic_uk.append(phonetic_uk)\n",
    "                except:\n",
    "                    list_uk_pron.append(None)\n",
    "                    list_phonetic_uk.append(None)\n",
    "                    #print(\"pas de uk\")\n",
    "\n",
    "                # US\n",
    "                try:\n",
    "                    langue_us = audio.find(\"span\",{\"class\":\"us dpron-i\"})\n",
    "                    if len(langue_us)==0:\n",
    "                        pass\n",
    "                    else:\n",
    "                        phonetic_us = audio.find(\"span\",{\"class\":\"pron dpron\"}).text\n",
    "                        list_us_pron.append(path_audio+langue_us.find(\"source\",{\"type\":\"audio/mpeg\"})['src'])\n",
    "                        list_phonetic_us.append(phonetic_us)\n",
    "                except:\n",
    "                    list_us_pron.append(None)\n",
    "                    list_phonetic_us.append(None)\n",
    "                    #print(\"pas de uk\")\n",
    "\n",
    "    dico_result = {\n",
    "        'word' : list_of_words,\n",
    "        'POS' : list_of_type,\n",
    "        'UKpron' : list_uk_pron,\n",
    "        'UKphonetic' : list_phonetic_uk,\n",
    "        'USpron' : list_us_pron,\n",
    "        'USphonetic' : list_phonetic_us\n",
    "    }\n",
    "\n",
    "    return(dico_result)"
   ]
  },
  {
   "cell_type": "markdown",
   "metadata": {},
   "source": [
    "## Sortie"
   ]
  },
  {
   "cell_type": "code",
   "execution_count": 24,
   "metadata": {},
   "outputs": [],
   "source": [
    "# import necessaire à la création des widgets\n",
    "from IPython.display import display, clear_output, HTML, Markdown \n",
    "import IPython.display as ipd\n",
    "import ipywidgets as widgets"
   ]
  },
  {
   "cell_type": "code",
   "execution_count": 25,
   "metadata": {},
   "outputs": [],
   "source": [
    "# definition du widget permettant de taper un texte \n",
    "textTarget = widgets.Text(\n",
    "       value=\"\",\n",
    "       description='hwd',\n",
    "       layout={'width': '180px'} ) #Taille de la zone de saisie\n",
    "\n",
    "textPronSampa = widgets.Text(\n",
    "       value=\"\",\n",
    "       description='pronSampa',\n",
    "       layout={'width': '180px'} ) #Taille de la zone de saisie\n",
    "\n",
    "textIpa = widgets.Text(\n",
    "       value=\"\",\n",
    "       description='ipa',\n",
    "       layout={'width': '180px'} ) #Taille de la zone de saisie"
   ]
  },
  {
   "cell_type": "code",
   "execution_count": 26,
   "metadata": {},
   "outputs": [
    {
     "data": {
      "application/vnd.jupyter.widget-view+json": {
       "model_id": "b6176b2bbdf4444eafb0c4aae4d3af7f",
       "version_major": 2,
       "version_minor": 0
      },
      "text/plain": [
       "VBox(children=(HBox(children=(Text(value='', description='hwd', layout=Layout(width='180px')), Text(value='', …"
      ]
     },
     "metadata": {},
     "output_type": "display_data"
    }
   ],
   "source": [
    "# définition du widget button permettant de lancer l'extraction\n",
    "button = widgets.Button(description='Démarrer',width=100)\n",
    "occ_max = widgets.IntSlider(max=20, value=1,description='nb occ.')\n",
    "\n",
    "# définition du widget permettant l'affichage d'une sortie\n",
    "out1 = widgets.Output()\n",
    "#out2 = widgets.Output()\n",
    "\n",
    "# spécifier les actions à réaliser lors de l'appui sur le bouton\n",
    "def on_button_clicked(_):\n",
    "    \n",
    "    # récupérer le texte saisi par l'utilisateur\n",
    "    targetWord = textTarget.value # est une regex\n",
    "    targetWordSampa = textPronSampa.value # est une regex\n",
    "    targetWordIpa = textIpa.value # est une regex\n",
    "\n",
    "#    with out1:\n",
    "#        clear_output()\n",
    "#        \n",
    "#        targetWord = textTarget.value\n",
    "#        urlLinguee = \"https://dictionary.cambridge.org/fr/dictionnaire/anglais/\"\n",
    "#        urlTarget = urlLinguee+targetWord+'.html'\n",
    "#        display(HTML('<a href=\"'+urlTarget+'\" target=\"_blank\" >'+'cambrigde : '+targetWord+'</a>'))\n",
    "\n",
    "    with out1:\n",
    "        clear_output()\n",
    "        \n",
    "        df_filtered = dfBuchananRich.copy()\n",
    "        \n",
    "        # Premier filtre : targetWord\n",
    "        if(len(targetWord)>0):\n",
    "            # Filtrer le dataframe avec les Inputs\n",
    "            series = df_filtered[\"motVedette\"]\n",
    "            series_filtered = series.str.contains(targetWord)\n",
    "            df_filtered = df_filtered[series_filtered]\n",
    "            \n",
    "        # Deuxième filtre : targetWordSampa\n",
    "        # Premier filtre : targetWord\n",
    "        if (len(targetWordSampa)>0):\n",
    "            # Filtrer le dataframe avec les Inputs\n",
    "            series = df_filtered[\"pronSampa\"]\n",
    "            series_filtered = series.str.contains(targetWordSampa)\n",
    "            df_filtered = df_filtered[series_filtered]\n",
    "            \n",
    "        # Troisième filtre : targetWordIpa\n",
    "        if (len(targetWordIpa)>0):\n",
    "            # Filtrer le dataframe avec les Inputs\n",
    "            series = df_filtered[\"ipa\"]\n",
    "            series_filtered = series.str.contains(targetWordIpa)\n",
    "            df_filtered = df_filtered[series_filtered]\n",
    "        \n",
    "        df_filtered = df_filtered.iloc[0:occ_max.value]\n",
    "        #display(df_filtered)\n",
    "        display(HTML(df_filtered.to_html(index=False)))\n",
    "        \n",
    "        #afficher le résultat\n",
    "        words = [filtered_word for filtered_word in df_filtered['motVedette']]\n",
    "        for actual_word in words:\n",
    "            #caption = widgets.Label(value=actual_word)\n",
    "            # Mise en forme du text\n",
    "            \n",
    "            caption = widgets.Label(value = r'\\(\\color{red} { Mot :' + actual_word  + '}\\)')\n",
    "            display(caption)\n",
    "            resultScrap = pd.DataFrame(cambridge_scrap2(actual_word,session))\n",
    "            #display(resultScrap)\n",
    "            \n",
    "            # UKpron\n",
    "            # UKphonetic\n",
    "            # USpron\n",
    "            # USphonetic\n",
    "            for index, row in resultScrap.iterrows():\n",
    "                pos = row['POS']\n",
    "                display(widgets.Label(value=\"{}. {}\".format(index+1,pos)))\n",
    "                \n",
    "                audio_widgets = []\n",
    "                listUrl=[row['UKpron'],row['USpron']]\n",
    "                \n",
    "                audio_widgets = list()\n",
    "                for urlCur in listUrl:\n",
    "                    if (urlCur is not None):\n",
    "                        if('uk_pron' in urlCur):\n",
    "                            #print('uk_pron')\n",
    "                            curent_phonetic=row['UKphonetic']\n",
    "                            langue = widgets.Label(value = 'UK (phonetic : {}) : '.format(curent_phonetic))\n",
    "                            langue.font_size=20\n",
    "                        else:\n",
    "                            #print('us_pron')\n",
    "                            curent_phonetic=row['USphonetic']\n",
    "                            langue = widgets.Label(value = 'US (phonetic : {}) : '.format(curent_phonetic))\n",
    "                            langue.font_size=20\n",
    "                        \n",
    "                        audio_widgets.append(langue)\n",
    "                        \n",
    "                        out = widgets.Output()\n",
    "                        with out:\n",
    "                            clear_output()\n",
    "                            ipd.display(ipd.Audio(url=urlCur))\n",
    "                        audio_widgets.append(out)\n",
    "                        \n",
    "                    box = widgets.HBox(tuple(audio_widgets))\n",
    "                display(box)\n",
    "                \n",
    "button.on_click(on_button_clicked)\n",
    "\n",
    "# les widgets de filtre input\n",
    "# Objet de type widget layout horizontal\n",
    "vbFiltres = widgets.HBox([textTarget,textPronSampa,textIpa,occ_max , button])\n",
    "\n",
    "# les widgets d'output\n",
    "# Objet de type widget layout vertical\n",
    "vbOuts = widgets.VBox([out1])\n",
    "\n",
    "hbAllWidgets = widgets.VBox([vbFiltres,vbOuts])\n",
    "\n",
    "hbAllWidgets"
   ]
  }
 ],
 "metadata": {
  "kernelspec": {
   "display_name": "Python 3",
   "language": "python",
   "name": "python3"
  },
  "language_info": {
   "codemirror_mode": {
    "name": "ipython",
    "version": 3
   },
   "file_extension": ".py",
   "mimetype": "text/x-python",
   "name": "python",
   "nbconvert_exporter": "python",
   "pygments_lexer": "ipython3",
   "version": "3.8.8"
  }
 },
 "nbformat": 4,
 "nbformat_minor": 4
}
