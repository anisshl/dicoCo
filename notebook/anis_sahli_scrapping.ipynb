{
 "cells": [
  {
   "cell_type": "code",
   "execution_count": 9,
   "metadata": {},
   "outputs": [],
   "source": [
    "from bs4 import BeautifulSoup\n",
    "from requests_html import HTMLSession\n",
    "import re\n",
    "\n",
    "session = HTMLSession()\n",
    "\n",
    "#print(response)\n",
    "#print(html_doc)"
   ]
  },
  {
   "cell_type": "code",
   "execution_count": 21,
   "metadata": {},
   "outputs": [],
   "source": [
    "word = \"poor\""
   ]
  },
  {
   "cell_type": "code",
   "execution_count": 22,
   "metadata": {},
   "outputs": [],
   "source": [
    "def cambridge_scrap(word,session):\n",
    "    path = \"https://dictionary.cambridge.org/fr/dictionnaire/anglais/\"\n",
    "    \n",
    "    response = session.get(path+word)\n",
    "    status = response.status_code\n",
    "    if status == 200: \n",
    "        html_doc = response.content\n",
    "        soup = BeautifulSoup(html_doc,'html.parser')\n",
    "        \n",
    "        finded = soup.findAll('div', {\"class\" : \"pos-header dpos-h\"})\n",
    "        path = 'https://dictionary.cambridge.org'\n",
    "        \n",
    "        for audio in finded :\n",
    "            mot = audio.find('div',{\"class\":\"di-title\"}).text\n",
    "            print(mot)\n",
    "            dtype = audio.find(\"div\",{\"class\":\"posgram dpos-g hdib lmr-5\"}).text\n",
    "            print('type : {}'.format(dtype))\n",
    "            try:\n",
    "                # UK\n",
    "                langue_uk = audio.find(\"span\",{\"class\":\"uk dpron-i\"})\n",
    "                if len(langue_uk)==0:\n",
    "                    pass\n",
    "                else:\n",
    "                    phonetic = audio.find(\"span\",{\"class\":\"pron dpron\"}).text\n",
    "                    print('uk prononciation : {}'.format(path+langue_uk.find('source',{\"type\":\"audio/mpeg\"})['src']))\n",
    "                    print('phonetic : {}'.format(phonetic))\n",
    "            except:\n",
    "                print(\"pas de uk\")\n",
    "\n",
    "            try:\n",
    "                # US\n",
    "                langue_us = audio.find(\"span\",{\"class\":\"us dpron-i\"})\n",
    "                if len(langue_us)==0:\n",
    "                    pass\n",
    "                else:\n",
    "                    phonetic = audio.find(\"span\",{\"class\":\"pron dpron\"}).text\n",
    "                    print('us prononciation : {}'.format(path+langue_us.find('source',{\"type\":\"audio/mpeg\"})['src']))\n",
    "                    print('phonetic : {}'.format(phonetic))\n",
    "            except:\n",
    "                print(\"pas de us\")\n",
    "            print()"
   ]
  },
  {
   "cell_type": "code",
   "execution_count": 23,
   "metadata": {},
   "outputs": [
    {
     "name": "stdout",
     "output_type": "stream",
     "text": [
      "poor\n",
      "type : adjective\n",
      "uk prononciation : https://dictionary.cambridge.org/fr/media/anglais/uk_pron/u/ukp/ukpon/ukponti016.mp3\n",
      "phonetic : /pɔːr/\n",
      "us prononciation : https://dictionary.cambridge.org/fr/media/anglais/us_pron/p/poo/poor_/poor.mp3\n",
      "phonetic : /pɔːr/\n",
      "\n",
      "poor\n",
      "type : noun [ plural ]\n",
      "uk prononciation : https://dictionary.cambridge.org/fr/media/anglais/uk_pron/u/ukp/ukpon/ukponti016.mp3\n",
      "phonetic : /pɔːr/\n",
      "us prononciation : https://dictionary.cambridge.org/fr/media/anglais/us_pron/p/poo/poor_/poor.mp3\n",
      "phonetic : /pɔːr/\n",
      "\n",
      "poor\n",
      "type : adjective\n",
      "pas de uk\n",
      "us prononciation : https://dictionary.cambridge.org/fr/media/anglais/us_pron/p/poo/poor_/poor.mp3\n",
      "phonetic : /pʊr/\n",
      "\n",
      "poor\n",
      "type : plural noun\n",
      "pas de uk\n",
      "us prononciation : https://dictionary.cambridge.org/fr/media/anglais/us_pron/p/poo/poor_/poor.mp3\n",
      "phonetic : /pʊr/\n",
      "\n",
      "poor\n",
      "type : adjective\n",
      "uk prononciation : https://dictionary.cambridge.org/fr/media/anglais/uk_pron/u/ukp/ukpon/ukponti016.mp3\n",
      "phonetic : /pɔːr/\n",
      "us prononciation : https://dictionary.cambridge.org/fr/media/anglais/us_pron/p/poo/poor_/poor.mp3\n",
      "phonetic : /pɔːr/\n",
      "\n"
     ]
    }
   ],
   "source": [
    "cambridge_scrap(word,session)"
   ]
  }
 ],
 "metadata": {
  "kernelspec": {
   "display_name": "Python 3",
   "language": "python",
   "name": "python3"
  },
  "language_info": {
   "codemirror_mode": {
    "name": "ipython",
    "version": 3
   },
   "file_extension": ".py",
   "mimetype": "text/x-python",
   "name": "python",
   "nbconvert_exporter": "python",
   "pygments_lexer": "ipython3",
   "version": "3.8.8"
  }
 },
 "nbformat": 4,
 "nbformat_minor": 4
}
